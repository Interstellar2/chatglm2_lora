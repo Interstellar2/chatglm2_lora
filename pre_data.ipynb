{
 "cells": [
  {
   "cell_type": "code",
   "execution_count": 2,
   "metadata": {},
   "outputs": [],
   "source": [
    "from datasets import load_dataset\n",
    "import tqdm\n",
    "import json"
   ]
  },
  {
   "cell_type": "code",
   "execution_count": 3,
   "metadata": {},
   "outputs": [
    {
     "name": "stderr",
     "output_type": "stream",
     "text": [
      "Found cached dataset json (C:/Users/han/.cache/huggingface/datasets/json/huatuo_encyclopedia_qa-4b25e4845893fb12/0.0.0/e347ab1c932092252e717ff3f949105a4dd28b27e842dd53157d2f72e276c2e4)\n"
     ]
    },
    {
     "data": {
      "application/vnd.jupyter.widget-view+json": {
       "model_id": "a550c36e9a1442b298dfce2005014648",
       "version_major": 2,
       "version_minor": 0
      },
      "text/plain": [
       "  0%|          | 0/3 [00:00<?, ?it/s]"
      ]
     },
     "metadata": {},
     "output_type": "display_data"
    },
    {
     "data": {
      "text/plain": [
       "DatasetDict({\n",
       "    train: Dataset({\n",
       "        features: ['questions', 'answers'],\n",
       "        num_rows: 362420\n",
       "    })\n",
       "    validation: Dataset({\n",
       "        features: ['questions', 'answers'],\n",
       "        num_rows: 1000\n",
       "    })\n",
       "    test: Dataset({\n",
       "        features: ['questions', 'answers'],\n",
       "        num_rows: 1000\n",
       "    })\n",
       "})"
      ]
     },
     "execution_count": 3,
     "metadata": {},
     "output_type": "execute_result"
    }
   ],
   "source": [
    "huatuo_qa = load_dataset(\"FreedomIntelligence/huatuo_encyclopedia_qa\")\n",
    "huatuo_qa"
   ]
  },
  {
   "cell_type": "code",
   "execution_count": 4,
   "metadata": {},
   "outputs": [
    {
     "data": {
      "text/plain": [
       "Dataset({\n",
       "    features: ['questions', 'answers'],\n",
       "    num_rows: 10000\n",
       "})"
      ]
     },
     "execution_count": 4,
     "metadata": {},
     "output_type": "execute_result"
    }
   ],
   "source": [
    "train_dataset = huatuo_qa[\"train\"].select(range(10000))\n",
    "train_dataset"
   ]
  },
  {
   "cell_type": "code",
   "execution_count": 5,
   "metadata": {},
   "outputs": [
    {
     "data": {
      "text/plain": [
       "{'questions': [['子宫肌瘤需要注意什么']],\n",
       " 'answers': ['子宫肌瘤在日常生活中大家都听说过，但人们对此却没有清晰的认识。首先我们需要对此有所了解，才能够做好预防。子宫肌瘤是女性生殖器官中最常见的一种良性肿瘤，也是人体中最常见的肿瘤之一，又称为纤维肌瘤、子宫纤维瘤。由于子宫肌瘤主要是由子宫平滑肌细胞增生而成，其中有少量纤维结缔组织作为一种支持组织而存在，故称为子宫平滑肌瘤较为确切。简称子宫肌瘤。患有子宫肌瘤是有哪些症状？现给详细介绍一下：症状多数患者无症状，仅在盆腔检查或超声检查时偶被发现。常见的症状有：（1）子宫出血为子宫肌瘤最主要的症状，出现于半数以上的患者。（2）腹部包块及压迫症状肌瘤逐渐生长，（3）疼痛一般情况下子宫肌瘤不引起疼痛，但不少患者可诉有下腹坠胀感、腰背酸痛。（4）白带增多子宫腔增大，子宫内膜腺体增多，加之盆腔充血，可使白带增加。（5）不孕与流产有些子宫肌瘤患者伴不孕或易发生流产，对受孕及妊娠结局的影响可能与肌瘤的生长部位、大小及数目有关。（6）贫血由于长期月经过多或不规则阴道流血可引起失血性贫血，较严重的贫血多见于黏膜下肌瘤患者。（7）其他极少数子宫肌瘤患者可产生红细胞增多症，低血糖。患有子宫肌瘤是有哪些体征呢？可以让我们提前知道自己身体有哪些不适?体征变现：（1）腹部检查子宫增大超过3个月妊娠大小或较大宫底部浆膜下肌瘤，可在耻骨联合上方或下腹部正中扪及包块，实性，无压痛，若为多发性子宫肌瘤则肿块之外形呈不规则状。（2）盆腔检查妇科双合诊、三合诊检查，子宫呈不同程度增大，欠规则，子宫表面有不规则突起，呈实性，若有变性则质地较软。']}"
      ]
     },
     "execution_count": 5,
     "metadata": {},
     "output_type": "execute_result"
    }
   ],
   "source": [
    "train_dataset[50]"
   ]
  },
  {
   "cell_type": "code",
   "execution_count": 6,
   "metadata": {},
   "outputs": [],
   "source": [
    "train_json_path = \"train.json\"\n",
    "val_json_path = \"val.json\""
   ]
  },
  {
   "cell_type": "code",
   "execution_count": 7,
   "metadata": {},
   "outputs": [
    {
     "name": "stderr",
     "output_type": "stream",
     "text": [
      "100%|██████████| 10000/10000 [00:01<00:00, 9414.58it/s]\n"
     ]
    }
   ],
   "source": [
    "with open(train_json_path, \"w\") as train_f:\n",
    "    for i in tqdm.tqdm(range(len(train_dataset))):\n",
    "        line = {\n",
    "                \"content\": train_dataset[i][\"questions\"][0][0],\n",
    "                \"summary\": train_dataset[i][\"answers\"][0]\n",
    "            }\n",
    "        line = json.dumps(line, ensure_ascii=False)\n",
    "        train_f.write(line + \"\\n\")"
   ]
  },
  {
   "cell_type": "code",
   "execution_count": 10,
   "metadata": {},
   "outputs": [
    {
     "name": "stderr",
     "output_type": "stream",
     "text": [
      "100%|██████████| 1000/1000 [00:00<00:00, 8320.43it/s]\n"
     ]
    }
   ],
   "source": [
    "with open(val_json_path, \"w\") as val_f:\n",
    "    for i in tqdm.tqdm(range(len(huatuo_qa[\"validation\"]))):\n",
    "        line = {\n",
    "                \"content\": huatuo_qa[\"validation\"][i][\"questions\"][0][0],\n",
    "                \"summary\": huatuo_qa[\"validation\"][i][\"answers\"][0]\n",
    "            }\n",
    "        line = json.dumps(line, ensure_ascii=False)\n",
    "        val_f.write(line + \"\\n\")"
   ]
  },
  {
   "cell_type": "code",
   "execution_count": 11,
   "metadata": {},
   "outputs": [
    {
     "name": "stderr",
     "output_type": "stream",
     "text": [
      "100%|██████████| 1000/1000 [00:00<00:00, 8991.28it/s]\n"
     ]
    }
   ],
   "source": [
    "with open(val_json_path, \"a\") as val_f:\n",
    "    for i in tqdm.tqdm(range(len(huatuo_qa[\"test\"]))):\n",
    "        line = {\n",
    "                \"content\": huatuo_qa[\"test\"][i][\"questions\"][0][0],\n",
    "                \"summary\": huatuo_qa[\"test\"][i][\"answers\"][0]\n",
    "            }\n",
    "        line = json.dumps(line, ensure_ascii=False)\n",
    "        val_f.write(line + \"\\n\")"
   ]
  }
 ],
 "metadata": {
  "kernelspec": {
   "display_name": "llm",
   "language": "python",
   "name": "python3"
  },
  "language_info": {
   "codemirror_mode": {
    "name": "ipython",
    "version": 3
   },
   "file_extension": ".py",
   "mimetype": "text/x-python",
   "name": "python",
   "nbconvert_exporter": "python",
   "pygments_lexer": "ipython3",
   "version": "3.11.4"
  },
  "orig_nbformat": 4
 },
 "nbformat": 4,
 "nbformat_minor": 2
}
